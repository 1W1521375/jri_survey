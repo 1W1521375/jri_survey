{
 "cells": [
  {
   "cell_type": "markdown",
   "metadata": {},
   "source": [
    "## open hours of domains created and closed between 12/08/19 - 07/10/19"
   ]
  },
  {
   "cell_type": "code",
   "execution_count": 2,
   "metadata": {},
   "outputs": [
    {
     "name": "stderr",
     "output_type": "stream",
     "text": [
      "/home/goto/.pyenv/versions/3.6.7/lib/python3.6/site-packages/pandas/compat/__init__.py:84: UserWarning: Could not import the lzma module. Your installed Python is incomplete. Attempting to use lzma compression will result in a RuntimeError.\n",
      "  warnings.warn(msg)\n"
     ]
    }
   ],
   "source": [
    "%matplotlib inline\n",
    "import numpy as np\n",
    "import pandas as pd\n",
    "import matplotlib\n",
    "import matplotlib.pyplot as plt\n",
    "import glob\n",
    "import os\n",
    "import time\n",
    "import itertools\n",
    "import pprint\n",
    "from termcolor import colored # for text colour"
   ]
  },
  {
   "cell_type": "code",
   "execution_count": 61,
   "metadata": {},
   "outputs": [],
   "source": [
    "# keywords\n",
    "keywords = [\"smbc\", \"smcc\", \"mitsui\", \"mitui\", \"sumitomo\", \"vpass\"]#, \"bank\", \"card\", \"credit\"]\n",
    "word_count = [0, 0, 0, 0, 0, 0, 0, 0]"
   ]
  },
  {
   "cell_type": "code",
   "execution_count": 4,
   "metadata": {},
   "outputs": [],
   "source": [
    "path = '/home/goto/dom/'\n",
    "\n",
    "# list of all files in current dir\n",
    "things = os.listdir(path)\n",
    "\n",
    "# list of \"new\" files\n",
    "news = [entry for entry in things if \"new\" in entry]\n",
    "# list of \"del\" files\n",
    "dels = [entry for entry in things if \"del\" in entry]       \n",
    "        \n",
    "news.sort()\n",
    "dels.sort()"
   ]
  },
  {
   "cell_type": "code",
   "execution_count": 5,
   "metadata": {},
   "outputs": [],
   "source": [
    "def list_file_content(file):\n",
    "    with open(file, \"r\") as f:\n",
    "            return [domain.replace(\"\\n\", \"\") for domain in f.readlines()]"
   ]
  },
  {
   "cell_type": "code",
   "execution_count": 6,
   "metadata": {},
   "outputs": [],
   "source": [
    "news_list = [list_file_content(n) for n in news]\n",
    "dels_list = [list_file_content(d) for d in dels]"
   ]
  },
  {
   "cell_type": "code",
   "execution_count": 7,
   "metadata": {},
   "outputs": [],
   "source": [
    "def list_purifier(some_list):\n",
    "    lim = len(some_list) - 1\n",
    "    for i, element in enumerate(some_list):\n",
    "        if i == lim:\n",
    "            break\n",
    "\n",
    "        n_set1 = set(element)\n",
    "        n_set2 = set(some_list[i + 1])\n",
    "        if len(n_set1 & n_set2):\n",
    "               some_list[i + 1] = list(n_set2 - n_set1)"
   ]
  },
  {
   "cell_type": "code",
   "execution_count": 8,
   "metadata": {},
   "outputs": [],
   "source": [
    "list_purifier(news_list)\n",
    "list_purifier(dels_list)"
   ]
  },
  {
   "cell_type": "code",
   "execution_count": 9,
   "metadata": {},
   "outputs": [],
   "source": [
    "def fr(entry_new, entry_del):\n",
    "    # assesing a rough estimate of life span sup\n",
    "    sup_life_span = 0.5*(dels_list.index(entry_del) - news_list.index(entry_new))\n",
    "    # dead relevant domains\n",
    "    rel_domains = []\n",
    "    \n",
    "    if(0 < sup_life_span):\n",
    "\n",
    "        # extracting overlapping elements\n",
    "        common_set = set(entry_new) & set(entry_del)\n",
    "        common_list = list(common_set)\n",
    "\n",
    "        # relevant dead domains in common lists\n",
    "        for dead in common_list:\n",
    "            for key in keywords:\n",
    "                if key in dead:\n",
    "                    rel_domains.append(dead)    \n",
    "\n",
    "        # diplay the result if not empty\n",
    "        if rel_domains:\n",
    "            print(f\"sup of life span: {sup_life_span}\")\n",
    "            print(colored(f\"{rel_domains}\\n\", \"red\"))\n",
    "            \n",
    "    return [rel_domains, sup_life_span]"
   ]
  },
  {
   "cell_type": "code",
   "execution_count": 62,
   "metadata": {},
   "outputs": [
    {
     "name": "stdout",
     "output_type": "stream",
     "text": [
      "sup of life span: 15.5\n",
      "\u001b[31m['dsmbcpbqc.co.uk']\n",
      "\u001b[0m\n",
      "sup of life span: 37.0\n",
      "\u001b[31m['henkelsmccoy2018.com']\n",
      "\u001b[0m\n",
      "sup of life span: 15.0\n",
      "\u001b[31m['jamesmcculloch.coach']\n",
      "\u001b[0m\n",
      "sup of life span: 5.0\n",
      "\u001b[31m['scottishroadrunnersmcc.com', 'usmcciif.com']\n",
      "\u001b[0m\n",
      "sup of life span: 3.0\n",
      "\u001b[31m['spsmbc.com']\n",
      "\u001b[0m\n",
      "sup of life span: 16.0\n",
      "\u001b[31m['guhiibqtgsmccd.co.uk']\n",
      "\u001b[0m\n",
      "sup of life span: 16.0\n",
      "\u001b[31m['iptvpass.com']\n",
      "\u001b[0m\n",
      "sup of life span: 6.0\n",
      "\u001b[31m['mysmbced.com']\n",
      "\u001b[0m\n",
      "sup of life span: 16.0\n",
      "\u001b[31m['forkliftsumitomoindo.com']\n",
      "\u001b[0m\n",
      "sup of life span: 2.0\n",
      "\u001b[31m['mymjsmbc.net']\n",
      "\u001b[0m\n",
      "sup of life span: 5.0\n",
      "\u001b[31m['sumitomorubber.com']\n",
      "\u001b[0m\n",
      "sup of life span: 1.0\n",
      "\u001b[31m['smbc-a.com']\n",
      "\u001b[0m\n",
      "sup of life span: 2.0\n",
      "\u001b[31m['smbcsp.com']\n",
      "\u001b[0m\n",
      "sup of life span: 1.0\n",
      "\u001b[31m['smbcajp.com']\n",
      "\u001b[0m\n",
      "sup of life span: 7.0\n",
      "\u001b[31m['smbcrz.com']\n",
      "\u001b[0m\n",
      "sup of life span: 5.0\n",
      "\u001b[31m['smbces-co.com', 'smithedwardsmccoyarchitects.com', 'smbcscu-co.com']\n",
      "\u001b[0m\n",
      "sup of life span: 1.0\n",
      "\u001b[31m['smbc-b.com']\n",
      "\u001b[0m\n",
      "sup of life span: 1.0\n",
      "\u001b[31m['smbc-in.com', 'scsmbc.com']\n",
      "\u001b[0m\n",
      "sup of life span: 2.0\n",
      "\u001b[31m['smbcua-co.com']\n",
      "\u001b[0m\n",
      "sup of life span: 2.0\n",
      "\u001b[31m['smbc-id.com']\n",
      "\u001b[0m\n",
      "sup of life span: 3.0\n",
      "\u001b[31m['smbc-co.com']\n",
      "\u001b[0m\n",
      "sup of life span: 4.0\n",
      "\u001b[31m['jp-smbc.com']\n",
      "\u001b[0m\n",
      "sup of life span: 6.0\n",
      "\u001b[31m['smbc--card.com']\n",
      "\u001b[0m\n",
      "sup of life span: 1.0\n",
      "\u001b[31m['smbc-iq.com']\n",
      "\u001b[0m\n",
      "sup of life span: 2.0\n",
      "\u001b[31m['ysmbc.com']\n",
      "\u001b[0m\n",
      "sup of life span: 1.0\n",
      "\u001b[31m['smbc-my.com', 'bk-smbcc.com', 'bk-smbc.com']\n",
      "\u001b[0m\n",
      "sup of life span: 2.0\n",
      "\u001b[31m['smbc-o.com']\n",
      "\u001b[0m\n",
      "sup of life span: 1.0\n",
      "\u001b[31m['smccbc.com']\n",
      "\u001b[0m\n",
      "sup of life span: 2.0\n",
      "\u001b[31m['m-smbc.com']\n",
      "\u001b[0m\n"
     ]
    }
   ],
   "source": [
    "pairs = itertools.product(news_list, dels_list)\n",
    "# relevant ehemeral domain names\n",
    "eph_domains = [y for y in [fr(entry_new, entry_del) for entry_new, entry_del in pairs] if y[0] != []]"
   ]
  },
  {
   "cell_type": "code",
   "execution_count": 63,
   "metadata": {},
   "outputs": [
    {
     "data": {
      "text/plain": [
       "<matplotlib.axes._subplots.AxesSubplot at 0x7fabc86df9b0>"
      ]
     },
     "execution_count": 63,
     "metadata": {},
     "output_type": "execute_result"
    },
    {
     "data": {
      "image/png": "[encoded data removed]",
      "text/plain": [
       "<Figure size 1080x576 with 1 Axes>"
      ]
     },
     "metadata": {
      "needs_background": "light"
     },
     "output_type": "display_data"
    }
   ],
   "source": [
    "df = pd.DataFrame(eph_domains, columns = [\"domains\", \"sup_life_span\"]).sort_values(\"sup_life_span\")\n",
    "df_counts = df.groupby(\"sup_life_span\")['domains'].nunique()\n",
    "df_counts.plot.bar(title = \"Distribution of sup life span of relevant ephemeral domains\", figsize = (15, 8))"
   ]
  },
  {
   "cell_type": "markdown",
   "metadata": {},
   "source": [
    "## わかったこと\n",
    "- 1, 2日で消えるものが圧倒的に多い\n",
    "- 比較的長期間で持つものは関連性がなく偶然キーワードを含むドメイン名のものが多い\n",
    "- smbcやsmccを含むもので，同時に\"card\"や\"bank\"など，直接的に金融関係の単語を含むものは見受けられなかった\n",
    "    - 住友グループが展開している他の事業に関する偽サイトが観測された; 重機械工業のフォークリフトやゴム工業のゴム"
   ]
  },
  {
   "cell_type": "code",
   "execution_count": null,
   "metadata": {},
   "outputs": [],
   "source": []
  },
  {
   "cell_type": "code",
   "execution_count": null,
   "metadata": {},
   "outputs": [],
   "source": []
  }
 ],
 "metadata": {
  "kernelspec": {
   "display_name": "Python 3",
   "language": "python",
   "name": "python3"
  },
  "language_info": {
   "codemirror_mode": {
    "name": "ipython",
    "version": 3
   },
   "file_extension": ".py",
   "mimetype": "text/x-python",
   "name": "python",
   "nbconvert_exporter": "python",
   "pygments_lexer": "ipython3",
   "version": "3.6.7"
  }
 },
 "nbformat": 4,
 "nbformat_minor": 4
}
